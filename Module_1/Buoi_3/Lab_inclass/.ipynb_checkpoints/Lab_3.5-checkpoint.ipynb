{
 "cells": [
  {
   "cell_type": "markdown",
   "metadata": {
    "id": "YGWz73_h2lRF"
   },
   "source": [
    "## Bài 1: Trùng lặp (list+set or list+dict) [link](https://leetcode.com/problems/contains-duplicate/)\n",
    "Cho một mảng số nguyên nums, trả về True nếu bất kỳ giá trị nào xuất hiện ít nhất hai lần trong mảng và trả về false nếu mọi phần tử đều khác biệt.  \n",
    "```\n",
    "Example 1:\n",
    "Input: nums = [1,2,3,1]\n",
    "Output: true\n",
    "\n",
    "Example 2:\n",
    "Input: nums = [1,2,3,4]\n",
    "Output: false\n",
    "\n",
    "Example 3:\n",
    "Input: nums = [1,1,1,3,3,4,3,2,4,2]\n",
    "Output: true\n",
    "```"
   ]
  },
  {
   "cell_type": "code",
   "execution_count": 10,
   "metadata": {
    "id": "AZ5MT_3z2evo"
   },
   "outputs": [],
   "source": [
    "def check_nums1(nums):\n",
    "    set_num = set(nums)\n",
    "    if len(set_num) == len(nums):\n",
    "        return False\n",
    "    else:\n",
    "        return True"
   ]
  },
  {
   "cell_type": "code",
   "execution_count": 11,
   "metadata": {},
   "outputs": [
    {
     "name": "stdout",
     "output_type": "stream",
     "text": [
      "True\n",
      "False\n",
      "True\n"
     ]
    }
   ],
   "source": [
    "print(check_nums1([1,2,3,1]))\n",
    "print(check_nums1([1,2,3,4]))\n",
    "print(check_nums1([1,1,1,3,3,4,3,2,4,2]))"
   ]
  },
  {
   "cell_type": "code",
   "execution_count": 16,
   "metadata": {},
   "outputs": [
    {
     "data": {
      "text/plain": [
       "True"
      ]
     },
     "execution_count": 16,
     "metadata": {},
     "output_type": "execute_result"
    }
   ],
   "source": [
    "def check_nums2(nums):\n",
    "    dict_num = {}\n",
    "    for num in nums:\n",
    "        if num not in dict_num:\n",
    "            dict_num[num] = nums.count(num)\n",
    "    for key in dict_num:\n",
    "        if dict_num[key] == 1:\n",
    "            continue\n",
    "        else: \n",
    "            return True\n",
    "            break\n",
    "    return False"
   ]
  },
  {
   "cell_type": "code",
   "execution_count": 17,
   "metadata": {},
   "outputs": [
    {
     "name": "stdout",
     "output_type": "stream",
     "text": [
      "True\n",
      "False\n",
      "True\n"
     ]
    }
   ],
   "source": [
    "print(check_nums2([1,2,3,1]))\n",
    "print(check_nums2([1,2,3,4]))\n",
    "print(check_nums2([1,1,1,3,3,4,3,2,4,2]))"
   ]
  },
  {
   "cell_type": "markdown",
   "metadata": {
    "id": "Y3_k1qYi3tJ5"
   },
   "source": [
    "## Bài 2: Đảo chữ nhóm (list+dict) [Link](https://leetcode.com/problems/group-anagrams/description/)\n",
    "Cho một mảng các chuỗi strs, hãy nhóm các đảo chữ cái lại với nhau. Bạn có thể trả lời câu trả lời theo bất kỳ thứ tự nào.\n",
    "\n",
    "Đảo chữ là một từ hoặc cụm từ được hình thành bằng cách sắp xếp lại các chữ cái của một từ hoặc cụm từ khác, thường sử dụng tất cả các chữ cái gốc chính xác một lần.\n",
    "\n",
    "```\n",
    "Example 1:\n",
    "Input: strs = [\"eat\",\"tea\",\"tan\",\"ate\",\"nat\",\"bat\"]\n",
    "Output: [[\"bat\"],[\"nat\",\"tan\"],[\"ate\",\"eat\",\"tea\"]]\n",
    "\n",
    "Example 2:\n",
    "Input: strs = [\"\"]\n",
    "Output: [[\"\"]]\n",
    "\n",
    "Example 3:\n",
    "Input: strs = [\"a\"]\n",
    "Output: [[\"a\"]]\n",
    "```"
   ]
  },
  {
   "cell_type": "code",
   "execution_count": 37,
   "metadata": {
    "id": "9BoWv8lHz3-z"
   },
   "outputs": [],
   "source": [
    "# Pass your code here\n",
    "def dao_chu(strs):\n",
    "    word_dict = dict()\n",
    "    for word in strs:\n",
    "        sorted_word = ''.join(sorted(word))\n",
    "        if sorted_word in word_dict.keys():\n",
    "            word_dict[sorted_word].append(word)\n",
    "        else:\n",
    "            word_dict[sorted_word] = [word]\n",
    "    return list(word_dict.values())"
   ]
  },
  {
   "cell_type": "code",
   "execution_count": 38,
   "metadata": {},
   "outputs": [
    {
     "name": "stdout",
     "output_type": "stream",
     "text": [
      "[['eat', 'tea', 'ate'], ['tan', 'nat'], ['bat']]\n",
      "[['']]\n",
      "[['a']]\n"
     ]
    }
   ],
   "source": [
    "print(dao_chu(strs=[\"eat\",\"tea\",\"tan\",\"ate\",\"nat\",\"bat\"]))\n",
    "print(dao_chu(strs=[\"\"]))\n",
    "print(dao_chu(strs=[\"a\"]))"
   ]
  },
  {
   "cell_type": "markdown",
   "metadata": {
    "id": "_85Svydr4B7I"
   },
   "source": [
    "## Bài 3: Tổng 2 số (list+set or list+dict) [Link](https://leetcode.com/problems/two-sum/description/)\n",
    "Cho một mảng các số nguyên nums và một số nguyên đích target, trả về chỉ số của hai số sao cho tổng của chúng = target.\n",
    "\n",
    "Bạn có thể giả định rằng mỗi đầu vào sẽ có chính xác một giải pháp và bạn không được sử dụng cùng một phần tử hai lần.\n",
    "\n",
    "Bạn có thể trả lời câu trả lời theo bất kỳ thứ tự nào.\n",
    "\n",
    "```\n",
    "Example 1:\n",
    "Input: nums = [2,7,11,15], target = 9\n",
    "Output: [0,1]\n",
    "Explanation: Because nums[0] + nums[1] == 9, we return [0, 1].\n",
    "\n",
    "Example 2:\n",
    "Input: nums = [3,2,4], target = 6\n",
    "Output: [1,2]\n",
    "\n",
    "Example 3:\n",
    "Input: nums = [3,3], target = 6\n",
    "Output: [0,1]\n",
    "```"
   ]
  },
  {
   "cell_type": "code",
   "execution_count": 78,
   "metadata": {
    "id": "Z7Yu2Eqr1Kih"
   },
   "outputs": [],
   "source": [
    "# Pass your code here\n",
    "def sum_dict(nums, target):\n",
    "    dict_nums = dict()\n",
    "    n = len(nums)\n",
    "    for i in range(n):\n",
    "        x = target - nums[i]\n",
    "        if x in dict_nums:\n",
    "            return [dict_nums[x],i]\n",
    "        dict_nums[nums[i]] = i\n",
    "    return []"
   ]
  },
  {
   "cell_type": "code",
   "execution_count": 79,
   "metadata": {},
   "outputs": [
    {
     "name": "stdout",
     "output_type": "stream",
     "text": [
      "[0, 1]\n",
      "[1, 2]\n",
      "[0, 1]\n"
     ]
    }
   ],
   "source": [
    "print(sum_dict([2,7,11,15],9))\n",
    "print(sum_dict([3,2,4],6))\n",
    "print(sum_dict([3,3],6))"
   ]
  },
  {
   "cell_type": "code",
   "execution_count": 80,
   "metadata": {},
   "outputs": [],
   "source": [
    "def sum_set(nums, target):\n",
    "    set_nums = set()\n",
    "    for idx, num in enumerate(nums):\n",
    "        x = target - num\n",
    "        if x in set_nums:\n",
    "            return [nums.index(x), idx]\n",
    "        set_nums.add(num)\n",
    "    return []"
   ]
  },
  {
   "cell_type": "code",
   "execution_count": 84,
   "metadata": {},
   "outputs": [
    {
     "name": "stdout",
     "output_type": "stream",
     "text": [
      "[0, 1]\n",
      "[1, 2]\n",
      "[0, 1]\n"
     ]
    }
   ],
   "source": [
    "print(sum_set([2,7,11,15],9))\n",
    "print(sum_set([3,2,4],6))\n",
    "print(sum_set([3,3],6))"
   ]
  },
  {
   "cell_type": "code",
   "execution_count": null,
   "metadata": {},
   "outputs": [],
   "source": []
  }
 ],
 "metadata": {
  "colab": {
   "authorship_tag": "ABX9TyNRqiCYRwsz0dHqJOOHvfiX",
   "provenance": []
  },
  "kernelspec": {
   "display_name": "Python 3 (ipykernel)",
   "language": "python",
   "name": "python3"
  },
  "language_info": {
   "codemirror_mode": {
    "name": "ipython",
    "version": 3
   },
   "file_extension": ".py",
   "mimetype": "text/x-python",
   "name": "python",
   "nbconvert_exporter": "python",
   "pygments_lexer": "ipython3",
   "version": "3.10.14"
  }
 },
 "nbformat": 4,
 "nbformat_minor": 4
}
