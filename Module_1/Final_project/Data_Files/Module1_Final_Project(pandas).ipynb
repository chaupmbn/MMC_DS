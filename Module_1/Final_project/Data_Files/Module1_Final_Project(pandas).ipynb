{
 "cells": [
  {
   "cell_type": "code",
   "execution_count": 1,
   "id": "e21105b5-0634-49c1-8e3f-0eef2dd3baa4",
   "metadata": {},
   "outputs": [],
   "source": [
    "import pandas as pd"
   ]
  },
  {
   "cell_type": "code",
   "execution_count": 2,
   "id": "c9f1d049-639b-4ba2-a66f-d53113a12cfe",
   "metadata": {},
   "outputs": [],
   "source": [
    "answer_key = \"B,A,D,D,C,B,D,A,C,C,D,B,A,B,A,C,B,D,A,C,A,A,B,D,D\".split(\",\")"
   ]
  },
  {
   "cell_type": "code",
   "execution_count": 3,
   "id": "5cc6022f-89e3-4e7d-9662-55ac35f6ae4a",
   "metadata": {},
   "outputs": [],
   "source": [
    "def open_file():\n",
    "    while True: # Tạo vòng lặp vô hạn để nhập tên file và đọc file đó, nếu tên không tồn tại thì cho phép lựa chọn nhập lại\n",
    "            filename = input(\"Enter a class to grad (i.e. class1 for class1.txt): \")\n",
    "            path = \"/Users/chaupham/Data_Science/MMC_DS/Module_1/Final_project/Data_Files/\" + filename + \".txt\"\n",
    "            try:    \n",
    "                df = pd.read_csv(path, delimiter = \",\", header = None, index_col = 0)\n",
    "                print(f\"Successfully opended {filename}.txt\")\n",
    "                df.index.name = \"student_number\"\n",
    "                df = df.fillna(0)\n",
    "                return df, filename\n",
    "                break # Khi file tồn tại và đã được đọc thì thoát khỏi vòng lặp vô hạn này để thực hiện các nhiệm vụ tiếp theo\n",
    "            except:\n",
    "                # Trường hợp không tìm thấy tên file đã nhập thì cho phép lựa chọn để thử nhập lại\n",
    "                print(\"File cannot be found\")\n",
    "                choice = input(\"Do you want to try another class (Y/N): \")\n",
    "                if choice.capitalize() == \"N\":\n",
    "                    print(\"Thank you and Goodbye\")\n",
    "                    quit() # Thoát khỏi chương trình nếu không muốn nhập lại\n",
    "            break\n"
   ]
  },
  {
   "cell_type": "code",
   "execution_count": 5,
   "id": "b6bf9f0e-3bc2-40db-9983-718c9432b99e",
   "metadata": {},
   "outputs": [
    {
     "name": "stdin",
     "output_type": "stream",
     "text": [
      "Enter a class to grad (i.e. class1 for class1.txt):  class1\n"
     ]
    },
    {
     "name": "stdout",
     "output_type": "stream",
     "text": [
      "Successfully opended class1.txt\n"
     ]
    }
   ],
   "source": [
    "df, filename = open_file()"
   ]
  },
  {
   "cell_type": "code",
   "execution_count": null,
   "id": "e19894a0-3579-493c-b2f2-73f877b8de3a",
   "metadata": {},
   "outputs": [],
   "source": [
    "scores = []\n",
    "for i in range(df.shape[0]):\n",
    "    score = 0\n",
    "    for j in range (df.shape[1]):\n",
    "        if df.iloc[i,j] == answer_key[j]:\n",
    "            score += 4\n",
    "        elif df.iloc[i,j] == 0:\n",
    "            score += 0\n",
    "        else:\n",
    "            score -= 1\n",
    "    scores.append(score)   \n",
    "df[\"score\"] = scores"
   ]
  },
  {
   "cell_type": "code",
   "execution_count": null,
   "id": "6d0b0250-37f3-4e73-ad42-d88ff9f7cc4f",
   "metadata": {},
   "outputs": [],
   "source": [
    "print(\"**** REPORT ****\\n\")\n",
    "print(\"Mean of scores of this class:\", df[\"score\"].mean(),\"\\n\")\n",
    "print(\"Highest score\", df[\"score\"].max(),\"\\n\")\n",
    "print(\"Lowest score\", df[\"score\"].min(),\"\\n\")\n",
    "print(\"Range of scores\", df[\"score\"].max() - df[\"score\"].min(),\"\\n\")\n",
    "print(\"Median score: \",df[\"score\"].median(),\"\\n\")"
   ]
  },
  {
   "cell_type": "code",
   "execution_count": null,
   "id": "6218253b-3cba-46cf-a28a-8387d0a21652",
   "metadata": {},
   "outputs": [],
   "source": [
    "df2 = df.copy()"
   ]
  },
  {
   "cell_type": "code",
   "execution_count": null,
   "id": "b1f089f8-e49e-40f4-8ac3-a865e45d54a4",
   "metadata": {},
   "outputs": [],
   "source": [
    "for i in range(1,26):\n",
    "    df2 = df2.drop(i,axis =1)"
   ]
  },
  {
   "cell_type": "code",
   "execution_count": null,
   "id": "c4a7f287-6cea-4f9c-8bb5-6766dc388027",
   "metadata": {},
   "outputs": [],
   "source": [
    "df2.to_csv(\"/Users/chaupham/Data_Science/MMC_DS/Module_1/Final_project/Data Files/\" \n",
    "           + filename + \"_task5.txt\", header = None)\n",
    "           "
   ]
  }
 ],
 "metadata": {
  "kernelspec": {
   "display_name": "Python 3 (ipykernel)",
   "language": "python",
   "name": "python3"
  },
  "language_info": {
   "codemirror_mode": {
    "name": "ipython",
    "version": 3
   },
   "file_extension": ".py",
   "mimetype": "text/x-python",
   "name": "python",
   "nbconvert_exporter": "python",
   "pygments_lexer": "ipython3",
   "version": "3.10.14"
  }
 },
 "nbformat": 4,
 "nbformat_minor": 5
}
