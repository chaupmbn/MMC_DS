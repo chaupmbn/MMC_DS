{
 "cells": [
  {
   "cell_type": "markdown",
   "metadata": {
    "id": "jxgT4r6ovuvd"
   },
   "source": [
    "#Bài tập 1: Thao tác với ma trận  \n",
    "**Lý thuyết**:  \n",
    "NumPy cung cấp các công cụ mạnh mẽ để thao tác ma trận, bao gồm tính toán các định thức, tìm nghịch đảo và tính toán các giá trị riêng và vectơ riêng.\n",
    "  \n",
    "**Đề bài**:  \n",
    "Tạo ma trận 5x5 ngẫu nhiên và thực hiện các thao tác sau:  \n",
    "* Tính định thức (determinant) của ma trận.  \n",
    "* Tìm nghịch đảo (transpose) của ma trận.  \n",
    "* Tính các giá trị riêng (eigent value) và vectơ riêng (eigent vector) của ma trận.   \n",
    "(Phần này sẽ liên quan tới đại số tuyến tính, mọi người có thể tự tìm hiểu để hiểu chi tiết về các khái niệm trên)\n",
    "\n",
    "<details>\n",
    "  <summary>Hint</summary>\n",
    "\n",
    "```python\n",
    "import numpy as np\n",
    "\n",
    "# Generate a random 5x5 matrix\n",
    "matrix = np.random.rand(5, 5)\n",
    "\n",
    "# Compute determinant\n",
    "det = np.linalg.det(matrix)\n",
    "\n",
    "# Find inverse\n",
    "inverse = np.linalg.inv(matrix)\n",
    "\n",
    "# Calculate eigenvalues and eigenvectors\n",
    "eigenvalues, eigenvectors = np.linalg.eig(matrix)\n",
    "\n",
    "```\n",
    "</details>"
   ]
  },
  {
   "cell_type": "code",
   "execution_count": 6,
   "metadata": {
    "executionInfo": {
     "elapsed": 2,
     "status": "ok",
     "timestamp": 1711943184294,
     "user": {
      "displayName": "Nha Nguyen",
      "userId": "05581690424976052134"
     },
     "user_tz": -420
    },
    "id": "-SEd8zd9tBN8"
   },
   "outputs": [
    {
     "name": "stdout",
     "output_type": "stream",
     "text": [
      "Matrix: \n",
      " [[ 6  8 -2 -2 -6]\n",
      " [ 7 -1  7 -3  3]\n",
      " [ 2 -6  3 -4  4]\n",
      " [-8  1 -4 -5  9]\n",
      " [ 2  0  1  8 -7]]\n",
      "Determinant: \n",
      " -3942.0\n",
      "Inverse: \n",
      " [[ 0.3992897   0.07356672  0.6194825   0.59614409  0.80974125]\n",
      " [-0.03323186  0.08472856 -0.23135464 -0.03754439 -0.11567732]\n",
      " [-0.43784881  0.06291223 -0.70471842 -0.66260781 -0.85235921]\n",
      " [ 0.19152714  0.09183156  0.31811263  0.46829021  0.65905632]\n",
      " [ 0.27042111  0.13495687  0.43987823  0.61085743  0.71993912]]\n",
      "Eigenvalues: \n",
      " [-14.56698921+0.j          12.34878635+0.j\n",
      "  -1.35779032+4.65020643j  -1.35779032-4.65020643j\n",
      "   0.93378351+0.j        ]\n",
      "Eigenvectors: \n",
      " [[ 0.16388938+0.j         -0.7916793 +0.j         -0.45028292+0.17156814j\n",
      "  -0.45028292-0.17156814j  0.51364469+0.j        ]\n",
      " [-0.17559526+0.j         -0.47798326+0.j          0.33422438-0.36471133j\n",
      "   0.33422438+0.36471133j  0.03157125+0.j        ]\n",
      " [-0.36777282+0.j          0.00889723+0.j          0.68306034+0.j\n",
      "   0.68306034-0.j         -0.53318981+0.j        ]\n",
      " [-0.61468396+0.j          0.37332327+0.j         -0.13768791-0.06610884j\n",
      "  -0.13768791+0.06610884j  0.44068116+0.j        ]\n",
      " [ 0.65514376+0.j          0.0729826 +0.j         -0.15536832+0.09513301j\n",
      "  -0.15536832-0.09513301j  0.50663708+0.j        ]]\n"
     ]
    }
   ],
   "source": [
    "# Your code here\n",
    "import random\n",
    "import numpy as np\n",
    "# Generate a random 5x5 matrix\n",
    "matrix = np.random.randint(-10,10,(5, 5))\n",
    "print(\"Matrix: \\n\", matrix)\n",
    "\n",
    "# Compute determinant\n",
    "det = np.linalg.det(matrix)\n",
    "print(\"Determinant: \\n\", det)\n",
    "\n",
    "# Find inverse\n",
    "inverse = np.linalg.inv(matrix)\n",
    "print(\"Inverse: \\n\", inverse)\n",
    "\n",
    "# Calculate eigenvalues and eigenvectors\n",
    "eigenvalues, eigenvectors = np.linalg.eig(matrix)\n",
    "print(\"Eigenvalues: \\n\", eigenvalues)\n",
    "print(\"Eigenvectors: \\n\", eigenvectors)"
   ]
  },
  {
   "cell_type": "markdown",
   "metadata": {
    "id": "j5y16Eqkxd_o"
   },
   "source": [
    "# Bài tập 2: Optimization\n",
    "**Lý thuyết:**  \n",
    "Gradient descent là một thuật toán tối ưu hóa được sử dụng để cực tiểu hóa hàm bằng cách di chuyển lặp đi lặp lại theo hướng dốc xuống.\n",
    "\n",
    "**Đề bài:**  \n",
    "Triển khai gradient descent sử dụng NumPy để tối ưu hàm số sau:\n",
    " $$ f(x) = x^2 + 5 \\sin(x) $$\n",
    "<details>\n",
    "  <summary>Hint</summary>\n",
    "\n",
    "```python\n",
    "import numpy as np\n",
    "\n",
    "def gradient_descent(x, learning_rate, iterations):\n",
    "    for _ in range(iterations):\n",
    "        gradient = 2*x + 5*np.cos(x)  # Đạo hàm riêng theo x\n",
    "        x = x - learning_rate * gradient # Cập nhật tham số\n",
    "    return x\n",
    "\n",
    "# Khởi tạo các hyperparameters\n",
    "x_initial = 5  # Input đầu vào\n",
    "learning_rate = 0.1 # Tốc độ học\n",
    "iterations = 100 # Số lần lặp\n",
    "\n",
    "# Run gradient descent\n",
    "minima = gradient_descent(x_initial, learning_rate, iterations)\n",
    "```\n",
    "\n",
    "</details>"
   ]
  },
  {
   "cell_type": "code",
   "execution_count": 9,
   "metadata": {
    "executionInfo": {
     "elapsed": 2,
     "status": "ok",
     "timestamp": 1711943686064,
     "user": {
      "displayName": "Nha Nguyen",
      "userId": "05581690424976052134"
     },
     "user_tz": -420
    },
    "id": "s3Q3kOnuwxxW"
   },
   "outputs": [],
   "source": [
    "# Your code here\n",
    "def gradient_descent(x, learning_rate, iterations):\n",
    "    for _ in range(iterations):\n",
    "        gradient = 2*x + 5*np.cos(x)  # Đạo hàm riêng theo x\n",
    "        x = x - learning_rate * gradient # Cập nhật tham số\n",
    "    return x\n",
    "\n",
    "# Khởi tạo các hyperparameters\n",
    "x_initial = 5  # Input đầu vào\n",
    "learning_rate = 0.1 # Tốc độ học\n",
    "iterations = 100 # Số lần lặp\n",
    "\n",
    "# Run gradient descent\n",
    "minima = gradient_descent(x_initial, learning_rate, iterations)"
   ]
  },
  {
   "cell_type": "markdown",
   "metadata": {
    "id": "r9TwMgo-y5tm"
   },
   "source": [
    "# Bài tập 3: Phân tích thống kê  \n",
    "**Lý thuyết**:  \n",
    "NumPy cung cấp các chức năng để phân tích thống kê, bao gồm tính toán giá trị trung bình (mean), trung vị (median), độ lệch chuẩn (standard deviation) và mối tương quan (correlation).  \n",
    "\n",
    "**Đề Bài**:  \n",
    "Thực hiện phân tích thống kê trên tập dữ liệu bai3.csv bằng NumPy:  \n",
    "* Tính giá trị trung bình, trung vị và độ lệch chuẩn của tập dữ liệu.\n",
    "* Tính toán ma trận tương quan giữa các biến khác nhau.\n",
    "* Xác định các ngoại lệ trong tập dữ liệu bằng cách sử dụng điểm z.\n",
    "\n",
    "<details>\n",
    "  <summary>Hint</summary>\n",
    "\n",
    "```python\n",
    "  # Load dataset\n",
    "  data = np.loadtxt('dataset.csv', delimiter=',')\n",
    "\n",
    "  # Calculate mean, median, and standard deviation\n",
    "  mean = np.mean(data, axis=0)\n",
    "  median = np.median(data, axis=0)\n",
    "  std_dev = np.std(data, axis=0)\n",
    "\n",
    "  # Compute correlation matrix\n",
    "  correlation_matrix = np.corrcoef(data, rowvar=False)\n",
    "\n",
    "  # Identify outliers using z-scores\n",
    "  z_scores = np.abs((data - mean) / std_dev)\n",
    "  outliers = np.where(z_scores > 3)\n",
    "```\n",
    "</details>"
   ]
  },
  {
   "cell_type": "code",
   "execution_count": 29,
   "metadata": {
    "id": "KjYxequp1pld"
   },
   "outputs": [],
   "source": [
    "# Your code here\n",
    "with open('bai3.csv','r') as file:\n",
    "    data = file.readlines()\n",
    "data.pop(0)\n",
    "data_clean = []\n",
    "for line in data:\n",
    "    line = line.strip('\\n').split(',')\n",
    "    data_clean.append(line)\n",
    "for row in data_clean:\n",
    "    for idx, data in enumerate(row):\n",
    "        row[idx] = float(data)\n",
    "data_clean = np.array(data_clean)"
   ]
  },
  {
   "cell_type": "code",
   "execution_count": 44,
   "metadata": {},
   "outputs": [
    {
     "data": {
      "text/plain": [
       "4.752"
      ]
     },
     "execution_count": 44,
     "metadata": {},
     "output_type": "execute_result"
    }
   ],
   "source": [
    "mean = np.mean(data_clean)\n",
    "mean"
   ]
  },
  {
   "cell_type": "code",
   "execution_count": 45,
   "metadata": {},
   "outputs": [
    {
     "data": {
      "text/plain": [
       "4.6"
      ]
     },
     "execution_count": 45,
     "metadata": {},
     "output_type": "execute_result"
    }
   ],
   "source": [
    "median = np.median(data_clean)\n",
    "median"
   ]
  },
  {
   "cell_type": "code",
   "execution_count": 46,
   "metadata": {},
   "outputs": [
    {
     "data": {
      "text/plain": [
       "2.147579102152002"
      ]
     },
     "execution_count": 46,
     "metadata": {},
     "output_type": "execute_result"
    }
   ],
   "source": [
    "std_dev = np.std(data_clean)\n",
    "std_dev"
   ]
  },
  {
   "cell_type": "code",
   "execution_count": 47,
   "metadata": {},
   "outputs": [
    {
     "data": {
      "text/plain": [
       "array([[1.        , 0.47784764, 0.89183434, 0.61500461, 0.94868903],\n",
       "       [0.47784764, 1.        , 0.81104187, 0.97063145, 0.71505798],\n",
       "       [0.89183434, 0.81104187, 1.        , 0.88457426, 0.98139657],\n",
       "       [0.61500461, 0.97063145, 0.88457426, 1.        , 0.79617986],\n",
       "       [0.94868903, 0.71505798, 0.98139657, 0.79617986, 1.        ]])"
      ]
     },
     "execution_count": 47,
     "metadata": {},
     "output_type": "execute_result"
    }
   ],
   "source": [
    "np.corrcoef(data_clean, rowvar=False)"
   ]
  },
  {
   "cell_type": "code",
   "execution_count": 51,
   "metadata": {},
   "outputs": [
    {
     "name": "stdout",
     "output_type": "stream",
     "text": [
      "[[1.65395538 0.58298202 0.02235075 1.23487884 0.39486322]\n",
      " [1.04862261 0.21046955 0.90706787 0.7226742  1.09332411]\n",
      " [0.76923825 0.86236637 0.3017351  1.37457102 0.72081163]\n",
      " [0.02421331 0.44328984 1.13988816 1.00205855 1.69865687]\n",
      " [0.39486322 0.07077737 1.65209281 0.39672578 2.07116934]]\n"
     ]
    }
   ],
   "source": [
    "z_scores = np.abs((data_clean - mean) / std_dev)\n",
    "print(z_scores)"
   ]
  },
  {
   "cell_type": "markdown",
   "metadata": {
    "id": "ZX1eKlF805bM"
   },
   "source": [
    "# Bài 4: Thao tác với tensor\n",
    "Đề cho một tensor đại diện cho một hình ảnh thang độ xám. Thực hiện các thao tác sau:\n",
    "\n",
    "1. Reshape: Reshape tensor thành một hình dạng khác trong khi vẫn đảm bảo tổng số phần tử không đổi.\n",
    "2. Transpose: Transpose tensor dọc theo các trục được chỉ định.\n",
    "3. Slice: Trích xuất một tập hợp con của tensor bằng cách cắt dọc theo các kích thước được chỉ định.\n",
    "4. Concatenate: Concatenate nhiều tensor dọc theo các trục được chỉ định.\n",
    "5. Các phép toán theo phần tử: Thực hiện các phép toán theo phần tử như cộng, trừ, nhân và chia với các giá trị vô hướng hoặc các tensor khác.\n",
    "6. Hoạt động rút gọn: Thực hiện các hoạt động rút gọn như tính tổng, trung bình, tối thiểu và tối đa dọc theo các trục được chỉ định.\n",
    "7. Indexing: Truy cập các phần tử riêng lẻ hoặc các tensor phụ bằng cách sử dụng các chỉ số nguyên hoặc boolean mark.\n",
    "\n",
    "<details>\n",
    "  <summary>Hint</summary>\n",
    "\n",
    "  ```python\n",
    "    # 1. Reshape the tensor\n",
    "    reshaped_tensor = image_tensor.reshape(1, 9)\n",
    "\n",
    "    # 2. Transpose the tensor\n",
    "    transposed_tensor = image_tensor.T\n",
    "\n",
    "    # 3. Slice the tensor\n",
    "    sliced_tensor = image_tensor[:2, :2]\n",
    "\n",
    "    # 4. Concatenate tensors\n",
    "    concatenated_tensor = np.concatenate((image_tensor, image_tensor), axis=0)\n",
    "\n",
    "    # 5. Element-wise operations\n",
    "    added_tensor = image_tensor + 0.1\n",
    "    multiplied_tensor = image_tensor * 2\n",
    "\n",
    "    # 6. Reduction operations\n",
    "    sum_tensor = np.sum(image_tensor)\n",
    "    mean_tensor = np.mean(image_tensor, axis=0)\n",
    "    max_tensor = np.max(image_tensor, axis=1)\n",
    "\n",
    "    # 7. Indexing\n",
    "    element = image_tensor[1, 2]\n",
    "  ```\n",
    "</details>"
   ]
  },
  {
   "cell_type": "code",
   "execution_count": 53,
   "metadata": {
    "executionInfo": {
     "elapsed": 2,
     "status": "ok",
     "timestamp": 1711944428036,
     "user": {
      "displayName": "Nha Nguyen",
      "userId": "05581690424976052134"
     },
     "user_tz": -420
    },
    "id": "sKx_zUMw041d"
   },
   "outputs": [],
   "source": [
    "image_tensor = np.array([\n",
    "    [0.1, 0.2, 0.3],\n",
    "    [0.4, 0.5, 0.6],\n",
    "    [0.7, 0.8, 0.9]\n",
    "])"
   ]
  },
  {
   "cell_type": "code",
   "execution_count": 54,
   "metadata": {
    "id": "aDy3tPzby5RN"
   },
   "outputs": [
    {
     "data": {
      "text/plain": [
       "array([[0.1, 0.2, 0.3, 0.4, 0.5, 0.6, 0.7, 0.8, 0.9]])"
      ]
     },
     "execution_count": 54,
     "metadata": {},
     "output_type": "execute_result"
    }
   ],
   "source": [
    "# your code here\n",
    "# 1. Reshape the tensor\n",
    "reshaped_tensor = image_tensor.reshape(1, 9)\n",
    "reshaped_tensor"
   ]
  },
  {
   "cell_type": "code",
   "execution_count": 55,
   "metadata": {},
   "outputs": [
    {
     "data": {
      "text/plain": [
       "array([[0.1, 0.4, 0.7],\n",
       "       [0.2, 0.5, 0.8],\n",
       "       [0.3, 0.6, 0.9]])"
      ]
     },
     "execution_count": 55,
     "metadata": {},
     "output_type": "execute_result"
    }
   ],
   "source": [
    "# 2. Transpose the tensor\n",
    "transposed_tensor = image_tensor.T\n",
    "transposed_tensor"
   ]
  },
  {
   "cell_type": "code",
   "execution_count": 58,
   "metadata": {},
   "outputs": [
    {
     "data": {
      "text/plain": [
       "array([[0.1, 0.2],\n",
       "       [0.4, 0.5]])"
      ]
     },
     "execution_count": 58,
     "metadata": {},
     "output_type": "execute_result"
    }
   ],
   "source": [
    " # 3. Slice the tensor\n",
    "sliced_tensor = image_tensor[:2, :2]\n",
    "sliced_tensor"
   ]
  },
  {
   "cell_type": "code",
   "execution_count": 59,
   "metadata": {},
   "outputs": [
    {
     "data": {
      "text/plain": [
       "array([[0.1, 0.2, 0.3],\n",
       "       [0.4, 0.5, 0.6],\n",
       "       [0.7, 0.8, 0.9],\n",
       "       [0.1, 0.2, 0.3],\n",
       "       [0.4, 0.5, 0.6],\n",
       "       [0.7, 0.8, 0.9]])"
      ]
     },
     "execution_count": 59,
     "metadata": {},
     "output_type": "execute_result"
    }
   ],
   "source": [
    "# 4. Concatenate tensors\n",
    "concatenated_tensor = np.concatenate((image_tensor, image_tensor), axis=0)\n",
    "concatenated_tensor"
   ]
  },
  {
   "cell_type": "code",
   "execution_count": 61,
   "metadata": {},
   "outputs": [
    {
     "name": "stdout",
     "output_type": "stream",
     "text": [
      "[[0.2 0.3 0.4]\n",
      " [0.5 0.6 0.7]\n",
      " [0.8 0.9 1. ]]\n",
      "[[0.2 0.4 0.6]\n",
      " [0.8 1.  1.2]\n",
      " [1.4 1.6 1.8]]\n"
     ]
    }
   ],
   "source": [
    "# 5. Element-wise operations\n",
    "added_tensor = image_tensor + 0.1\n",
    "multiplied_tensor = image_tensor * 2\n",
    "print(added_tensor)\n",
    "print(multiplied_tensor)"
   ]
  },
  {
   "cell_type": "code",
   "execution_count": 62,
   "metadata": {},
   "outputs": [],
   "source": [
    "# 6. Reduction operations\n",
    "sum_tensor = np.sum(image_tensor)\n",
    "mean_tensor = np.mean(image_tensor, axis=0)\n",
    "max_tensor = np.max(image_tensor, axis=1)"
   ]
  },
  {
   "cell_type": "code",
   "execution_count": 63,
   "metadata": {},
   "outputs": [
    {
     "data": {
      "text/plain": [
       "4.5"
      ]
     },
     "execution_count": 63,
     "metadata": {},
     "output_type": "execute_result"
    }
   ],
   "source": [
    "sum_tensor"
   ]
  },
  {
   "cell_type": "code",
   "execution_count": 64,
   "metadata": {},
   "outputs": [
    {
     "data": {
      "text/plain": [
       "array([0.4, 0.5, 0.6])"
      ]
     },
     "execution_count": 64,
     "metadata": {},
     "output_type": "execute_result"
    }
   ],
   "source": [
    "mean_tensor"
   ]
  },
  {
   "cell_type": "code",
   "execution_count": 65,
   "metadata": {},
   "outputs": [
    {
     "data": {
      "text/plain": [
       "array([0.3, 0.6, 0.9])"
      ]
     },
     "execution_count": 65,
     "metadata": {},
     "output_type": "execute_result"
    }
   ],
   "source": [
    "max_tensor"
   ]
  },
  {
   "cell_type": "code",
   "execution_count": 66,
   "metadata": {},
   "outputs": [
    {
     "data": {
      "text/plain": [
       "0.6"
      ]
     },
     "execution_count": 66,
     "metadata": {},
     "output_type": "execute_result"
    }
   ],
   "source": [
    " # 7. Indexing\n",
    "element = image_tensor[1, 2]\n",
    "element"
   ]
  },
  {
   "cell_type": "code",
   "execution_count": null,
   "metadata": {},
   "outputs": [],
   "source": []
  }
 ],
 "metadata": {
  "colab": {
   "authorship_tag": "ABX9TyMk1q12/N28maJwPQwRv9wn",
   "provenance": []
  },
  "kernelspec": {
   "display_name": "Python 3 (ipykernel)",
   "language": "python",
   "name": "python3"
  },
  "language_info": {
   "codemirror_mode": {
    "name": "ipython",
    "version": 3
   },
   "file_extension": ".py",
   "mimetype": "text/x-python",
   "name": "python",
   "nbconvert_exporter": "python",
   "pygments_lexer": "ipython3",
   "version": "3.10.14"
  }
 },
 "nbformat": 4,
 "nbformat_minor": 4
}
