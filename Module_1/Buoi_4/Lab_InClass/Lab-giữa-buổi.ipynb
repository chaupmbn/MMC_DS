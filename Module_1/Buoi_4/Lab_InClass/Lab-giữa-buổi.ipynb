{
 "cells": [
  {
   "cell_type": "code",
   "execution_count": 2,
   "metadata": {
    "id": "eqbH_2HhpvYh"
   },
   "outputs": [],
   "source": [
    "import numpy as np\n",
    "np.random.seed(42)"
   ]
  },
  {
   "cell_type": "markdown",
   "metadata": {
    "id": "X8tlbogelj-t"
   },
   "source": [
    "# Problem 1: Tạo hai ma trận 3x3 với các phần tử integer ngẫu nhiên từ 1 - 10."
   ]
  },
  {
   "cell_type": "code",
   "execution_count": 7,
   "metadata": {
    "id": "sV2WdE6nlTrD"
   },
   "outputs": [
    {
     "name": "stdout",
     "output_type": "stream",
     "text": [
      "[[2 5 1]\n",
      " [6 9 1]\n",
      " [3 7 4]]\n",
      "[[9 3 5]\n",
      " [3 7 5]\n",
      " [9 7 2]]\n"
     ]
    }
   ],
   "source": [
    "# Your code here\n",
    "A = np.random.randint(1,10,(3,3))\n",
    "B = np.random.randint(1,10,(3,3))\n",
    "print(A)\n",
    "print(B)"
   ]
  },
  {
   "cell_type": "markdown",
   "metadata": {
    "id": "bgEJURQnpxD_"
   },
   "source": [
    "# Problem 2: Thực hiện phép cộng phần tử, nhân từng phần tử, tích vô hướng với hai ma trận vừa được tạo.\n"
   ]
  },
  {
   "cell_type": "code",
   "execution_count": 8,
   "metadata": {
    "id": "c90439lApclu"
   },
   "outputs": [
    {
     "name": "stdout",
     "output_type": "stream",
     "text": [
      "[[11  8  6]\n",
      " [ 9 16  6]\n",
      " [12 14  6]]\n",
      "[[18 15  5]\n",
      " [18 63  5]\n",
      " [27 49  8]]\n",
      "[[42 48 37]\n",
      " [90 88 77]\n",
      " [84 86 58]]\n"
     ]
    }
   ],
   "source": [
    "# Your code here\n",
    "print(A+B)\n",
    "print(A*B)\n",
    "print(np.dot(A,B))"
   ]
  },
  {
   "cell_type": "markdown",
   "metadata": {
    "id": "O7LAFDMlqK2g"
   },
   "source": [
    "# Problem 3: VIết hàm nhận vào một mảng Numpy, sau đó trả về tổng tất cả các phần tử của chúng\n"
   ]
  },
  {
   "cell_type": "code",
   "execution_count": 12,
   "metadata": {
    "id": "9noxlvtZpebU"
   },
   "outputs": [
    {
     "data": {
      "text/plain": [
       "36"
      ]
     },
     "execution_count": 12,
     "metadata": {},
     "output_type": "execute_result"
    }
   ],
   "source": [
    "# Your code here\n",
    "def sum_array(arr):\n",
    "    result = np.sum(arr)\n",
    "    return result\n",
    "arr = np.array([[1,2,3,4],[5,6,7,8]])\n",
    "sum_array(arr)"
   ]
  },
  {
   "cell_type": "code",
   "execution_count": null,
   "metadata": {},
   "outputs": [],
   "source": []
  }
 ],
 "metadata": {
  "colab": {
   "authorship_tag": "ABX9TyMvHkhs3h3LmpCDSWhYnITs",
   "provenance": []
  },
  "kernelspec": {
   "display_name": "Python 3 (ipykernel)",
   "language": "python",
   "name": "python3"
  },
  "language_info": {
   "codemirror_mode": {
    "name": "ipython",
    "version": 3
   },
   "file_extension": ".py",
   "mimetype": "text/x-python",
   "name": "python",
   "nbconvert_exporter": "python",
   "pygments_lexer": "ipython3",
   "version": "3.10.14"
  }
 },
 "nbformat": 4,
 "nbformat_minor": 4
}
